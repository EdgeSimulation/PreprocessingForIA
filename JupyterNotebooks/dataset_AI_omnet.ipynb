{
 "cells": [
  {
   "cell_type": "code",
   "execution_count": 1,
   "id": "f5aa9913",
   "metadata": {},
   "outputs": [],
   "source": [
    "#\n",
    "# Copyright (C) 2024 by Sonja Filiposka <sonja.filiposka@finki.ukim.mk>\n",
    "#\n",
    "# This code is licensed under a Creative Commons Attribution 4.0 International License. (see LICENSE.txt for details)\n",
    "#\n",
    "# [TODO]General Description - this notebook is used to extract the delay and the handover information from OMNET output vector file\n",
    "# It creates two types of output files: \n",
    "#    - mobile network communication delay as reported by OMNET\n",
    "#      - a csv file with the delay for each communication exchange\n",
    "#    - initial positioning and migration files that are used as input for CloudSim \n",
    "#       - initial positioning file defines the start and end time for each car/service and the initial community \n",
    "#         based on location of tha car and the location of the base stations (see comments in code)\n",
    "#       - migration file defines the time stamp when a car moves from one community to another based on relative location to the nearest base station\n",
    "#"
   ]
  },
  {
   "cell_type": "code",
   "execution_count": 3,
   "id": "02007059-72ee-484e-8873-bd380b38c19d",
   "metadata": {
    "tags": []
   },
   "outputs": [],
   "source": [
    "def dataset_omnet(vector_omnet, output):\n",
    "\n",
    "    # parameters\n",
    "    # 1 = $vector_omnet - omnet input.file name\n",
    "    # 2 = $output       - output.file name\n",
    "        \n",
    "    # First prepare the output file from OMNET, vector-0.vec to suit version 2.0\n",
    "    !split -d -b 500m $vector_omnet\n",
    "    !sed -i 's/version 3/version 2/' x00\n",
    "    !cat x* > vector-1.vec\n",
    "    # clean\n",
    "    !rm x*\n",
    "    # requires to have netperfmeter installed: sudo apt-get install netperfmeter\n",
    "    !extractvectors vector-1.vec results.bz2 \"distance\" \\\n",
    "        \"measuredSinrDl\" \"measuredSinrUl\" \"rcvdSinrDl\" \"averageCqiDl\" \\\n",
    "        \"servingCell\" \"rlcDelayDl\" \"rlcPacketLossTotal\" \"rlcPduDelayDl\" \\\n",
    "        \"rlcPduPacketLossDl\" \"rlcPduThroughputDl\" \"rlcThroughputDl\"\\\n",
    "        \"receivedPacketFromLowerLayer\" \n",
    "\n",
    "    # get data file: results (it deletes results.bz2)\n",
    "    if os.path.isfile('results'):\n",
    "        !rm results\n",
    "    !bzip2 -d results.bz2\n",
    "    \n",
    "    # removing unnecessary information\n",
    "    !grep 'car' results > r_cars\n",
    "    !sed -i -e 's/NRSeveralBSALC.//' -e 's/:vector//'  -e 's/ ETV//' \\\n",
    "        -e 's/(packetBytes)//' r_cars\n",
    "    \n",
    "    # clean\n",
    "    !rm vector-1.vec \n",
    "    \n",
    "    cols=['Time','Event','Object','Vector','Split','Value']\n",
    "    data = vx.read_csv(\"r_cars\", sep='\\t', header=None,\n",
    "        #names=['#','Time','Event','Object','Vector','Split','Value'],\n",
    "        names=['#','Time','Event','Object','Vector','Value'],\n",
    "        usecols=['Time','Object','Vector','Value'],\n",
    "        convert=True, chunk_size=150_000_000) \n",
    "    print(data)\n",
    "\n",
    "    #data = data['#'].drop\n",
    "    data.Object = data.Object.str.replace('\"', '')\n",
    "    data.Vector = data.Vector.str.replace('\"', '')    \n",
    "\n",
    "    data.export_csv(output, index=False, sep='\\t')\n",
    "    \n",
    "    # clean\n",
    "    !rm results r_cars* \n",
    "    del data\n",
    "    \n",
    "    return 1 \n"
   ]
  },
  {
   "cell_type": "code",
   "execution_count": null,
   "id": "537a1dca",
   "metadata": {
    "scrolled": true,
    "tags": []
   },
   "outputs": [
    {
     "name": "stdout",
     "output_type": "stream",
     "text": [
      "STEP 2) sumo input :  dataset_AI_output/8589_sumo_AI.csv\n",
      "STEP 2) sumo output :  dataset_AI_output/8589_sumo_2_AI.csv\n"
     ]
    },
    {
     "name": "stderr",
     "output_type": "stream",
     "text": [
      "/tmp/ipykernel_5809/1462651122.py:3: DtypeWarning: Columns (0,1,2,3,4,5,6,8,9) have mixed types. Specify dtype option on import or set low_memory=False.\n",
      "  df_pd = pd.read_csv(s_input, sep='\\t', header=None,\n"
     ]
    },
    {
     "name": "stdout",
     "output_type": "stream",
     "text": [
      "(20679146, 10)\n",
      "0           veh_id\n",
      "1                0\n",
      "2                0\n",
      "3                0\n",
      "4                0\n",
      "             ...  \n",
      "20679141       888\n",
      "20679142       962\n",
      "20679143       972\n",
      "20679144       975\n",
      "20679145       999\n",
      "Name: veh_id, Length: 20679146, dtype: object\n",
      "      t veh_id          x          y  angle speed   pos        lane slope  \\\n",
      "1   0.0      0  -0.485544  38.341737  39.92  0.00  5.10  33199229_0  0.00   \n",
      "2  0.01      0  -0.485544  38.341737  39.92  0.03  5.10  33199229_0  0.00   \n",
      "3  0.02      0  -0.485544  38.341737  39.92  0.05  5.10  33199229_0  0.00   \n",
      "4  0.03      0  -0.485544  38.341737  39.92  0.08  5.10  33199229_0  0.00   \n",
      "5  0.04      0  -0.485544  38.341737  39.92  0.10  5.10  33199229_0  0.00   \n",
      "\n",
      "  signals  \n",
      "1       0  \n",
      "2       8  \n",
      "3       8  \n",
      "4       8  \n",
      "5       0  \n",
      "(20679145, 24) "
     ]
    }
   ],
   "source": [
    "# measuring execution time\n",
    "%load_ext autotime\n",
    "\n",
    "# extract the delay and the handover information from omnet output vector file\n",
    "maxTime = 1800\n",
    "communities = 9\n",
    "\n",
    "#parametrised calls of notebook\n",
    "import numpy as np\n",
    "import pandas as pd\n",
    "import vaex as vx\n",
    "import os.path\n",
    "\n",
    "path=\"/home/jupyter/notebook/OMNET6.0/\"\n",
    "sumo_files = \"dataset_AI_input/fdc_signals_\"\n",
    "omnet_files = \"VoipDl-Urban-xxxx/VoipDl-Urban-\"\n",
    "#cars = np.array([4928, 4951, 4955, 5712, 5734, 5749, 6900, 6908, 6923, 8589, 8619, 8620])\n",
    "cars = np.array([8589, 8619, 8620])\n",
    "out = \"dataset_AI_output/\"\n",
    "outFile = \"_AI.csv\"\n",
    "# initialPositioning-xxxx.txt and migrations-xxxx.txt will also be.ipynb_checkpoints/created\n",
    "\n",
    "for i in cars:\n",
    "    # create omnet dataframe\n",
    "    v_omnet = path + omnet_files + str(i) + \"/vector-0.vec\"\n",
    "    output = path + out + str(i) + \"_omnet\" + outFile\n",
    "    print(\"STEP 1) omnet input : \", v_omnet)\n",
    "    print(\"STEP 1) omnet output : \", output)\n",
    "    # extract dataset from OMNET vector\n",
    "    omnet_exit_code1 = dataset_omnet(v_omnet, output)\n",
    "    print(omnet_exit_code1) "
   ]
  },
  {
   "cell_type": "code",
   "execution_count": null,
   "id": "43a13405-59bd-43f1-bc3e-a9fca6202122",
   "metadata": {},
   "outputs": [],
   "source": []
  },
  {
   "cell_type": "code",
   "execution_count": null,
   "id": "674acfba-0313-4a2a-b07d-7ef9f42ea9d5",
   "metadata": {},
   "outputs": [],
   "source": []
  }
 ],
 "metadata": {
  "kernelspec": {
   "display_name": "Python 3 (ipykernel)",
   "language": "python",
   "name": "python3"
  },
  "language_info": {
   "codemirror_mode": {
    "name": "ipython",
    "version": 3
   },
   "file_extension": ".py",
   "mimetype": "text/x-python",
   "name": "python",
   "nbconvert_exporter": "python",
   "pygments_lexer": "ipython3",
   "version": "3.8.10"
  }
 },
 "nbformat": 4,
 "nbformat_minor": 5
}
