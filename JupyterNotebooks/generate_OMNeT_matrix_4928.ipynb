{
 "cells": [
  {
   "cell_type": "code",
   "execution_count": null,
   "id": "974d5008-53a9-49eb-b4d9-d066bff20a12",
   "metadata": {},
   "outputs": [],
   "source": [
    "#\n",
    "# Copyright (C) 2024 by Sonja Filiposka <sonja.filiposka@finki.ukim.mk>\n",
    "#\n",
    "# This code is licensed under a Creative Commons Attribution 4.0 International License. (see LICENSE.txt for details)\n",
    "#\n",
    "# General Description - this notebook is used to extract several attributes information from OMNET output vector file\n",
    "# It creates an output file that contains values of a set of attributes, named \"distance\", \"measuredSinrDl\", \"measuredSinrUl\", \n",
    "#   \"rcvdSinrDl\", \"averageCqiDl\", \"servingCell\", \"rlcDelayDl\", \"rlcPacketLossTotal\", \"rlcPduDelayDl\", \"rlcPduPacketLossDl\",\n",
    "#   \"rlcPduThroughputDl\", \"rlcThroughputDl\", \"receivedPacketFromLowerLayer\" from OMNeT++ output vectors\n",
    "#"
   ]
  },
  {
   "cell_type": "code",
   "execution_count": 1,
   "id": "618fe564-70bb-4807-ab95-1355793278c5",
   "metadata": {},
   "outputs": [],
   "source": [
    "# Import necessary libraries\n",
    "import pandas as pd"
   ]
  },
  {
   "cell_type": "code",
   "execution_count": 2,
   "id": "cf7787eb-e34f-48ff-a006-640a271574e7",
   "metadata": {},
   "outputs": [],
   "source": [
    "# OMNET data\n",
    "# corresponding file to SUMO\n",
    "# Time    Object  Vector  Value\n",
    "# 0.1     car[0].cellularNic.phy  \"servingCell \"\"\"\"\"      0.0\n",
    "# 0.1     car[0].cellularNic.nrChannelModel[0]    \"distance \"\"\"\"\" 730.321606\n",
    "# 0.102   car[0].cellularNic.nrChannelModel[0]    \"measuredSinrUl \"\"\"\"\"   31.197934\n",
    "# 2.142   car[0].cellularNic.nrChannelModel[0]    \"measuredSinrDl \"\"\"\"\"   20.288022\n",
    "# 0.104   car[0].cellularNic.nrPhy        \"averageCqiDl \"\"\"\"\"     10.0\n",
    "# 0.104   car[0].cellularNic.nrChannelModel[0]    \"rcvdSinrDl \"\"\"\"\"       23.440494\n",
    "# 0.104   car[0].cellularNic.nrMac        \"receivedPacketFromLowerLayer \"\"\"\"\"     73.0\n",
    "# 0.107   car[0].cellularNic.nrRlc.um     \"rlcPduThroughputDl \"\"\"\"\"       0.0\n",
    "# 0.107   car[0].cellularNic.nrRlc.um     \"rlcPduDelayDl \"\"\"\"\"    0.004\n",
    "# 0.107   car[0].cellularNic.nrRlc.um     \"rlcThroughputDl \"\"\"\"\"  644.859813\n",
    "# 0.107   car[0].cellularNic.nrRlc.um     \"rlcPacketLossTotal \"\"\"\"\"       0.0\n",
    "# 0.107   car[0].cellularNic.nrRlc.um     \"rlcDelayDl \"\"\"\"\"       0.007\n",
    "# 0.107   car[0].cellularNic.nrRlc.um     \"rlcPduPacketLossDl \"\"\"\"\"       0.0\n",
    "# 0.107   car[0].cellularNic.pdcpRrc      \"receivedPacketFromLowerLayer \"\"\"\"\"     69.0\n",
    "# "
   ]
  },
  {
   "cell_type": "code",
   "execution_count": 3,
   "id": "e205d24f-4364-4bbf-bc27-1de9b256321f",
   "metadata": {},
   "outputs": [],
   "source": [
    "# remove ].cellularNic.*\n",
    "!sed -i -e \"s/].cellularNic.[^ ]*\\t/\\t/\" 4928_omnet_AI.csv"
   ]
  },
  {
   "cell_type": "code",
   "execution_count": 4,
   "id": "d2165c17-1a30-44f9-962f-6f5ebd916c81",
   "metadata": {},
   "outputs": [],
   "source": [
    "# remove receivedPacketFromLowerLayer lines\n",
    "!sed -i -e \"/receivedPacketFromLowerLayer/d\" 4928_omnet_AI.csv"
   ]
  },
  {
   "cell_type": "code",
   "execution_count": 5,
   "id": "01ad26c7-a2ee-4c7b-a291-c8e4741cb11f",
   "metadata": {},
   "outputs": [],
   "source": [
    "# remove car[\n",
    "!sed -i -e \"s/car\\[//g\" 4928_omnet_AI.csv"
   ]
  },
  {
   "cell_type": "code",
   "execution_count": 6,
   "id": "e292d77c-6dab-47f3-9430-e87422735665",
   "metadata": {},
   "outputs": [],
   "source": [
    "# remove double quotes from OMNET file before read\n",
    "!cat 4928_omnet_AI.csv |  tr -d \\\" >> 4928_omnet_AI_noquotes.csv"
   ]
  },
  {
   "cell_type": "code",
   "execution_count": null,
   "id": "c091653a-ea33-4167-9701-726526b58f9c",
   "metadata": {},
   "outputs": [],
   "source": [
    "# Load data from csv file (SUMO with classification and 999999)\n",
    "file_path = '4928_omnet_AI_noquotes.csv'\n",
    "omnet = pd.read_csv(file_path, delimiter='\\t')\n",
    "\n",
    "# Display the first few rows of the data\n",
    "print(omnet.head())"
   ]
  },
  {
   "cell_type": "code",
   "execution_count": 8,
   "id": "7fcc22d2-da7d-4229-957f-3c7d6a7d11ff",
   "metadata": {},
   "outputs": [],
   "source": [
    "transposedomnet = omnet.groupby(['Time','Object','Vector'])['Value'].aggregate('min').unstack()"
   ]
  },
  {
   "cell_type": "code",
   "execution_count": 9,
   "id": "985a4f59-36f7-4861-8c22-1cdbf97f3067",
   "metadata": {},
   "outputs": [
    {
     "name": "stdout",
     "output_type": "stream",
     "text": [
      "   Time  Object        Vector        Value\n",
      "0   0.1       0  servingCell      0.000000\n",
      "1   0.1       0     distance    615.016313\n",
      "2   0.1       0     distance    655.315612\n",
      "3   0.1       0     distance   1136.230193\n",
      "4   0.1       0     distance    177.124825\n"
     ]
    }
   ],
   "source": [
    "print(omnet.head())"
   ]
  },
  {
   "cell_type": "code",
   "execution_count": 10,
   "id": "08a36339-056b-4724-b17d-30ce61ef3934",
   "metadata": {},
   "outputs": [
    {
     "name": "stdout",
     "output_type": "stream",
     "text": [
      "Vector   Time  Object  averageCqiDl    distance   measuredSinrDl   \\\n",
      "0       0.100       0            NaN  177.124825              NaN   \n",
      "1       0.102       0            NaN         NaN         26.68636   \n",
      "2       0.104       0           13.0  177.124825              NaN   \n",
      "3       0.107       0            NaN         NaN              NaN   \n",
      "4       0.108       0            NaN         NaN         26.68636   \n",
      "\n",
      "Vector  measuredSinrUl   rcvdSinrDl   rlcDelayDl   rlcPacketLossTotal   \\\n",
      "0                   NaN          NaN          NaN                  NaN   \n",
      "1             38.116766          NaN          NaN                  NaN   \n",
      "2                   NaN    30.359326          NaN                  NaN   \n",
      "3                   NaN          NaN        0.007                  0.0   \n",
      "4             38.116766          NaN          NaN                  NaN   \n",
      "\n",
      "Vector  rlcPduDelayDl   rlcPduPacketLossDl   rlcPduThroughputDl   \\\n",
      "0                  NaN                  NaN                  NaN   \n",
      "1                  NaN                  NaN                  NaN   \n",
      "2                  NaN                  NaN                  NaN   \n",
      "3                0.004                  0.0                  0.0   \n",
      "4                  NaN                  NaN                  NaN   \n",
      "\n",
      "Vector  rlcThroughputDl   servingCell   \n",
      "0                    NaN           0.0  \n",
      "1                    NaN           NaN  \n",
      "2                    NaN           NaN  \n",
      "3             644.859813           NaN  \n",
      "4                    NaN           NaN  \n"
     ]
    }
   ],
   "source": [
    "transposedomnet = transposedomnet.reset_index()\n",
    "print(transposedomnet.head())"
   ]
  },
  {
   "cell_type": "code",
   "execution_count": 11,
   "id": "df9861da-8627-4c78-8d02-d588a3142dac",
   "metadata": {},
   "outputs": [
    {
     "name": "stdout",
     "output_type": "stream",
     "text": [
      "Vector        averageCqiDl    distance   measuredSinrDl   measuredSinrUl   \\\n",
      "Object Time                                                                 \n",
      "0      0.100            NaN  177.124825              NaN              NaN   \n",
      "       0.102            NaN         NaN         26.68636        38.116766   \n",
      "       0.104           13.0  177.124825              NaN              NaN   \n",
      "       0.107            NaN         NaN              NaN              NaN   \n",
      "       0.108            NaN         NaN         26.68636        38.116766   \n",
      "\n",
      "Vector        rcvdSinrDl   rlcDelayDl   rlcPacketLossTotal   rlcPduDelayDl   \\\n",
      "Object Time                                                                   \n",
      "0      0.100          NaN          NaN                  NaN             NaN   \n",
      "       0.102          NaN          NaN                  NaN             NaN   \n",
      "       0.104    30.359326          NaN                  NaN             NaN   \n",
      "       0.107          NaN        0.007                  0.0           0.004   \n",
      "       0.108          NaN          NaN                  NaN             NaN   \n",
      "\n",
      "Vector        rlcPduPacketLossDl   rlcPduThroughputDl   rlcThroughputDl   \\\n",
      "Object Time                                                                \n",
      "0      0.100                  NaN                  NaN               NaN   \n",
      "       0.102                  NaN                  NaN               NaN   \n",
      "       0.104                  NaN                  NaN               NaN   \n",
      "       0.107                  0.0                  0.0        644.859813   \n",
      "       0.108                  NaN                  NaN               NaN   \n",
      "\n",
      "Vector        servingCell   \n",
      "Object Time                 \n",
      "0      0.100           0.0  \n",
      "       0.102           NaN  \n",
      "       0.104           NaN  \n",
      "       0.107           NaN  \n",
      "       0.108           NaN  \n"
     ]
    }
   ],
   "source": [
    "transposedomnet = transposedomnet.set_index(['Object','Time'])\n",
    "print(transposedomnet.head())"
   ]
  },
  {
   "cell_type": "code",
   "execution_count": null,
   "id": "36b45fc5-0088-412f-a94e-957004cefedd",
   "metadata": {},
   "outputs": [],
   "source": [
    "transposedomnetF = transposedomnet.groupby(\"Object\").fillna(method=\"ffill\")\n",
    "transposedomnetF = transposedomnetF.groupby(\"Object\").fillna(method=\"bfill\")\n",
    "print(transposedomnetF)"
   ]
  },
  {
   "cell_type": "code",
   "execution_count": null,
   "id": "6e7c1840-de36-4ca6-90c2-bd3666233544",
   "metadata": {},
   "outputs": [],
   "source": [
    "transposedomnetF = transposedomnetF.reset_index()\n",
    "print(transposedomnetF.head())"
   ]
  },
  {
   "cell_type": "code",
   "execution_count": null,
   "id": "0ad0b63f-15de-489d-9b6a-f947b11f15c3",
   "metadata": {},
   "outputs": [],
   "source": [
    "transposedomnetF.isnull().values.any()"
   ]
  },
  {
   "cell_type": "code",
   "execution_count": null,
   "id": "d1b0b227-5502-4a30-b80e-9f298cbf81b3",
   "metadata": {},
   "outputs": [],
   "source": [
    "#sort by time\n",
    "transposedomnetF = transposedomnetF.sort_values(by=['Time', 'Object'])"
   ]
  },
  {
   "cell_type": "code",
   "execution_count": null,
   "id": "412380b6-9be1-4cd8-94e9-53089376d932",
   "metadata": {},
   "outputs": [],
   "source": [
    "# shift column 'Name' to first position \n",
    "first_column = transposedomnetF.pop('Time') \n",
    "  \n",
    "# insert column using insert(position,column_name, \n",
    "# first_column) function \n",
    "transposedomnetF.insert(0, 'Time', first_column) "
   ]
  },
  {
   "cell_type": "code",
   "execution_count": null,
   "id": "4a6f5426-08bf-4dfe-9fbc-78bd612a616d",
   "metadata": {},
   "outputs": [],
   "source": [
    "test = transposedomnetF"
   ]
  },
  {
   "cell_type": "code",
   "execution_count": null,
   "id": "2082b223-f6b2-48f2-af99-ab907a7d137f",
   "metadata": {},
   "outputs": [],
   "source": [
    "test['Time'] = pd.to_timedelta(test['Time'], unit='s')"
   ]
  },
  {
   "cell_type": "code",
   "execution_count": null,
   "id": "612a2eee-f2ab-4eff-b60a-fb2339d6ac90",
   "metadata": {},
   "outputs": [],
   "source": [
    "test = test.set_index('Time')"
   ]
  },
  {
   "cell_type": "code",
   "execution_count": null,
   "id": "1930ee06-df86-4214-8fbc-b5971b490fa0",
   "metadata": {},
   "outputs": [],
   "source": [
    "test=pd.DataFrame(test)"
   ]
  },
  {
   "cell_type": "code",
   "execution_count": null,
   "id": "da04773a-f5f9-4cfe-8211-3b6bc0d99f0b",
   "metadata": {},
   "outputs": [],
   "source": [
    "list(test.columns)"
   ]
  },
  {
   "cell_type": "code",
   "execution_count": null,
   "id": "0bfa24dd-ae13-4c98-8cf3-be290652b71b",
   "metadata": {},
   "outputs": [],
   "source": [
    "#drop all zeros\n",
    "test = test.drop(columns=['rlcPacketLossTotal ','rlcPduPacketLossDl ','rlcPduThroughputDl '])"
   ]
  },
  {
   "cell_type": "code",
   "execution_count": null,
   "id": "69a3134a-5b37-46cf-bb1c-462469667160",
   "metadata": {},
   "outputs": [],
   "source": [
    "final = test.groupby('Object', as_index=False).resample(\"10ms\").mean()"
   ]
  },
  {
   "cell_type": "code",
   "execution_count": null,
   "id": "1950b18b-20f4-4562-a6a8-cf354589c205",
   "metadata": {},
   "outputs": [],
   "source": [
    "print(final.head())"
   ]
  },
  {
   "cell_type": "code",
   "execution_count": null,
   "id": "bda06c96-4fa6-47ad-9e12-324f93506a08",
   "metadata": {},
   "outputs": [],
   "source": [
    "final.isnull().values.any()"
   ]
  },
  {
   "cell_type": "code",
   "execution_count": null,
   "id": "aff68e8b-0e8d-45a4-9bce-af1843bf4ad5",
   "metadata": {},
   "outputs": [],
   "source": [
    "final = final.dropna()"
   ]
  },
  {
   "cell_type": "code",
   "execution_count": null,
   "id": "44e4f527-50df-439b-a4fa-a4a3d25a69f8",
   "metadata": {},
   "outputs": [],
   "source": [
    "final.isnull().values.any()"
   ]
  },
  {
   "cell_type": "code",
   "execution_count": null,
   "id": "1f4ae673-f2df-4110-be29-10c088ba8623",
   "metadata": {},
   "outputs": [],
   "source": [
    "final = final.reset_index()\n",
    "final['Time']=final['Time'].dt.total_seconds()"
   ]
  },
  {
   "cell_type": "code",
   "execution_count": null,
   "id": "58e236e4-06f0-4d1d-80ad-64c4c9539911",
   "metadata": {},
   "outputs": [],
   "source": [
    "print(final.head())"
   ]
  },
  {
   "cell_type": "code",
   "execution_count": null,
   "id": "a231417d-98e2-44e8-827e-3e80519937e2",
   "metadata": {},
   "outputs": [],
   "source": [
    "final = final.drop(columns=['level_0'])"
   ]
  },
  {
   "cell_type": "code",
   "execution_count": null,
   "id": "bd9dfd09-eb6c-4a37-a597-6985bc53d67c",
   "metadata": {},
   "outputs": [],
   "source": [
    "print(final.head())"
   ]
  },
  {
   "cell_type": "code",
   "execution_count": null,
   "id": "f5e3b984-da51-4030-b3dd-dace8d5e3f16",
   "metadata": {},
   "outputs": [],
   "source": [
    "final.rename(columns={'averageCqiDl ':'averageCqiDl','distance ':'distance','measuredSinrDl ':'measuredSinrDl','measuredSinrUl ':'measuredSinrUl','rcvdSinrDl ':'rcvdSinrDl','rlcDelayDl ':'rlcDelayDl','rlcPduDelayDl ':'rlcPduDelayDl','rlcThroughputDl ':'rlcThroughputDl','servingCell ':'servingCell'}, inplace=True)\n",
    "list(final.columns)"
   ]
  },
  {
   "cell_type": "code",
   "execution_count": null,
   "id": "e7d803c1-c998-4993-a5fe-e893fa9234f9",
   "metadata": {},
   "outputs": [],
   "source": [
    "# add previous positions (-servingCell1 to -servingCell7)\n",
    "# -1 means that the car is not connect to servingCell\n",
    "final['servingCell-1'] = final.groupby('Object')['servingCell'].shift(100).fillna(-1)\n",
    "final['servingCell-2'] = final.groupby('Object')['servingCell'].shift(200).fillna(-1)\n",
    "final['servingCell-3'] = final.groupby('Object')['servingCell'].shift(300).fillna(-1)\n",
    "final['servingCell-4'] = final.groupby('Object')['servingCell'].shift(400).fillna(-1)\n",
    "final['servingCell-5'] = final.groupby('Object')['servingCell'].shift(500).fillna(-1)\n",
    "final['servingCell-6'] = final.groupby('Object')['servingCell'].shift(600).fillna(-1)\n",
    "final['servingCell-7'] = final.groupby('Object')['servingCell'].shift(700).fillna(-1)\n",
    "final.head()"
   ]
  },
  {
   "cell_type": "code",
   "execution_count": null,
   "id": "b2338f8e-683e-4805-a7f1-ae2796f3b288",
   "metadata": {},
   "outputs": [],
   "source": [
    "# step by step change 999999 with last seen coordinates\n",
    "final['servingCell1'] = final.groupby('Object')['servingCell'].shift(-100).fillna(-1)\n",
    "final['servingCell2'] = final.groupby('Object')['servingCell'].shift(-200).fillna(-1)\n",
    "final['servingCell3'] = final.groupby('Object')['servingCell'].shift(-300).fillna(-1)\n",
    "final['servingCell4'] = final.groupby('Object')['servingCell'].shift(-400).fillna(-1)\n",
    "final['servingCell5'] = final.groupby('Object')['servingCell'].shift(-500).fillna(-1)\n",
    "final['servingCell6'] = final.groupby('Object')['servingCell'].shift(-600).fillna(-1)\n",
    "final['servingCell7'] = final.groupby('Object')['servingCell'].shift(-700).fillna(-1)\n",
    "final.head()"
   ]
  },
  {
   "cell_type": "code",
   "execution_count": null,
   "id": "45bbb7bc-de7d-4888-9665-f187d3748e12",
   "metadata": {},
   "outputs": [],
   "source": [
    "# save to new file\n",
    "output = '4928_omnet_AI_matrix.csv'\n",
    "final.to_csv(output, index=False, sep='\\t')"
   ]
  },
  {
   "cell_type": "code",
   "execution_count": null,
   "id": "c7311de9-0ce0-4b06-91f9-60a4dd5b24ae",
   "metadata": {},
   "outputs": [],
   "source": [
    "#to check the file\n",
    "# Load data from Excel file\n",
    "file_path = '4928_omnet_AI_matrix.csv'\n",
    "data = pd.read_csv(file_path, delimiter='\\t', nrows=200)\n",
    "# save to new file\n",
    "output = '4928_omnet_AI_small.csv'\n",
    "data.to_csv(output, index=False, sep='\\t')"
   ]
  },
  {
   "cell_type": "code",
   "execution_count": null,
   "id": "794b7b20-e7b9-44d1-8998-89fc3eaa9120",
   "metadata": {},
   "outputs": [],
   "source": []
  }
 ],
 "metadata": {
  "kernelspec": {
   "display_name": "Python 3 (ipykernel)",
   "language": "python",
   "name": "python3"
  },
  "language_info": {
   "codemirror_mode": {
    "name": "ipython",
    "version": 3
   },
   "file_extension": ".py",
   "mimetype": "text/x-python",
   "name": "python",
   "nbconvert_exporter": "python",
   "pygments_lexer": "ipython3",
   "version": "3.10.9"
  }
 },
 "nbformat": 4,
 "nbformat_minor": 5
}
